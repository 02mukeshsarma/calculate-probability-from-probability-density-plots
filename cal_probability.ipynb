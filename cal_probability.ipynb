{
 "cells": [
  {
   "cell_type": "code",
   "execution_count": 1,
   "metadata": {
    "ExecuteTime": {
     "end_time": "2019-05-16T16:43:34.668501Z",
     "start_time": "2019-05-16T16:43:24.682715Z"
    }
   },
   "outputs": [],
   "source": [
    "import gc\n",
    "import pandas as pd\n",
    "import matplotlib.pyplot as plt\n",
    "import seaborn as sns\n",
    "import numpy as np\n",
    "\n",
    "from sklearn.neighbors import KernelDensity\n",
    "from scipy import stats"
   ]
  },
  {
   "cell_type": "code",
   "execution_count": 2,
   "metadata": {
    "ExecuteTime": {
     "end_time": "2019-05-16T16:43:34.699012Z",
     "start_time": "2019-05-16T16:43:34.672489Z"
    }
   },
   "outputs": [],
   "source": [
    "import warnings\n",
    "#current version of seaborn generates a bunch of warnings that we'll ignore\n",
    "warnings.filterwarnings('ignore')\n",
    "sns.set_style('whitegrid')\n",
    "\n",
    "%matplotlib inline\n",
    "color = sns.color_palette() \n",
    "\n",
    "pd.set_option('display.max_rows', 15000)\n",
    "pd.set_option('display.max_columns', 100)"
   ]
  },
  {
   "cell_type": "code",
   "execution_count": 3,
   "metadata": {
    "ExecuteTime": {
     "end_time": "2019-05-16T16:43:34.707514Z",
     "start_time": "2019-05-16T16:43:34.702010Z"
    }
   },
   "outputs": [],
   "source": [
    "%matplotlib inline "
   ]
  },
  {
   "cell_type": "markdown",
   "metadata": {},
   "source": [
    "# Load Dataset"
   ]
  },
  {
   "cell_type": "markdown",
   "metadata": {},
   "source": [
    "Food servers’ tips in restaurants may be influenced by many factors, including the nature of the restaurant, size of the party, and table locations in the restaurant. \n",
    "\n",
    "Restaurant managers need to know which factors matter when they assign tables to food servers. For the sake of staff morale, they usually want to avoid either the substance or the appearance of unfair treatment of the servers, for whom tips (at least in restaurants in the United States) are a major component of pay. \n",
    "\n",
    "In one restaurant, a food server recorded the following data on all customers they served during an interval of two and a half months in early 1990. The restaurant, located in a suburban shopping mall, was part of a national chain and served a varied menu. In observance of local law, the restaurant offered to seat in a non-smoking section to patrons who requested it. Each record includes a day and time, and taken together, they show the server’s work schedule."
   ]
  },
  {
   "cell_type": "code",
   "execution_count": 4,
   "metadata": {
    "ExecuteTime": {
     "end_time": "2019-05-16T16:43:34.752610Z",
     "start_time": "2019-05-16T16:43:34.714018Z"
    }
   },
   "outputs": [],
   "source": [
    "df = pd.read_csv(r'C:\\Users\\Admond\\Desktop\\Data Science\\Kaggle\\Tips Data (Find Probability from Probability Density Plots)\\tips.csv') "
   ]
  },
  {
   "cell_type": "code",
   "execution_count": 5,
   "metadata": {
    "ExecuteTime": {
     "end_time": "2019-05-16T16:43:34.784285Z",
     "start_time": "2019-05-16T16:43:34.757106Z"
    }
   },
   "outputs": [
    {
     "name": "stdout",
     "output_type": "stream",
     "text": [
      "<class 'pandas.core.frame.DataFrame'>\n",
      "RangeIndex: 244 entries, 0 to 243\n",
      "Data columns (total 7 columns):\n",
      "total_bill    244 non-null float64\n",
      "tip           244 non-null float64\n",
      "sex           244 non-null object\n",
      "smoker        244 non-null object\n",
      "day           244 non-null object\n",
      "time          244 non-null object\n",
      "size          244 non-null int64\n",
      "dtypes: float64(2), int64(1), object(4)\n",
      "memory usage: 13.4+ KB\n"
     ]
    }
   ],
   "source": [
    "df.info()"
   ]
  },
  {
   "cell_type": "code",
   "execution_count": 6,
   "metadata": {
    "ExecuteTime": {
     "end_time": "2019-05-16T16:43:34.833827Z",
     "start_time": "2019-05-16T16:43:34.791791Z"
    }
   },
   "outputs": [
    {
     "data": {
      "text/html": [
       "<div>\n",
       "<style scoped>\n",
       "    .dataframe tbody tr th:only-of-type {\n",
       "        vertical-align: middle;\n",
       "    }\n",
       "\n",
       "    .dataframe tbody tr th {\n",
       "        vertical-align: top;\n",
       "    }\n",
       "\n",
       "    .dataframe thead th {\n",
       "        text-align: right;\n",
       "    }\n",
       "</style>\n",
       "<table border=\"1\" class=\"dataframe\">\n",
       "  <thead>\n",
       "    <tr style=\"text-align: right;\">\n",
       "      <th></th>\n",
       "      <th>total_bill</th>\n",
       "      <th>tip</th>\n",
       "      <th>sex</th>\n",
       "      <th>smoker</th>\n",
       "      <th>day</th>\n",
       "      <th>time</th>\n",
       "      <th>size</th>\n",
       "    </tr>\n",
       "  </thead>\n",
       "  <tbody>\n",
       "    <tr>\n",
       "      <th>0</th>\n",
       "      <td>16.99</td>\n",
       "      <td>1.01</td>\n",
       "      <td>Female</td>\n",
       "      <td>No</td>\n",
       "      <td>Sun</td>\n",
       "      <td>Dinner</td>\n",
       "      <td>2</td>\n",
       "    </tr>\n",
       "    <tr>\n",
       "      <th>1</th>\n",
       "      <td>10.34</td>\n",
       "      <td>1.66</td>\n",
       "      <td>Male</td>\n",
       "      <td>No</td>\n",
       "      <td>Sun</td>\n",
       "      <td>Dinner</td>\n",
       "      <td>3</td>\n",
       "    </tr>\n",
       "    <tr>\n",
       "      <th>2</th>\n",
       "      <td>21.01</td>\n",
       "      <td>3.50</td>\n",
       "      <td>Male</td>\n",
       "      <td>No</td>\n",
       "      <td>Sun</td>\n",
       "      <td>Dinner</td>\n",
       "      <td>3</td>\n",
       "    </tr>\n",
       "    <tr>\n",
       "      <th>3</th>\n",
       "      <td>23.68</td>\n",
       "      <td>3.31</td>\n",
       "      <td>Male</td>\n",
       "      <td>No</td>\n",
       "      <td>Sun</td>\n",
       "      <td>Dinner</td>\n",
       "      <td>2</td>\n",
       "    </tr>\n",
       "    <tr>\n",
       "      <th>4</th>\n",
       "      <td>24.59</td>\n",
       "      <td>3.61</td>\n",
       "      <td>Female</td>\n",
       "      <td>No</td>\n",
       "      <td>Sun</td>\n",
       "      <td>Dinner</td>\n",
       "      <td>4</td>\n",
       "    </tr>\n",
       "  </tbody>\n",
       "</table>\n",
       "</div>"
      ],
      "text/plain": [
       "   total_bill   tip     sex smoker  day    time  size\n",
       "0       16.99  1.01  Female     No  Sun  Dinner     2\n",
       "1       10.34  1.66    Male     No  Sun  Dinner     3\n",
       "2       21.01  3.50    Male     No  Sun  Dinner     3\n",
       "3       23.68  3.31    Male     No  Sun  Dinner     2\n",
       "4       24.59  3.61  Female     No  Sun  Dinner     4"
      ]
     },
     "execution_count": 6,
     "metadata": {},
     "output_type": "execute_result"
    }
   ],
   "source": [
    "df.head()"
   ]
  },
  {
   "cell_type": "markdown",
   "metadata": {},
   "source": [
    "# Question: Do customers give more tips during lunch/dinner time?"
   ]
  },
  {
   "cell_type": "code",
   "execution_count": 7,
   "metadata": {
    "ExecuteTime": {
     "end_time": "2019-05-16T16:43:35.164731Z",
     "start_time": "2019-05-16T16:43:34.836328Z"
    }
   },
   "outputs": [
    {
     "data": {
      "text/plain": [
       "<matplotlib.axes._subplots.AxesSubplot at 0x1b336bb02b0>"
      ]
     },
     "execution_count": 7,
     "metadata": {},
     "output_type": "execute_result"
    },
    {
     "data": {
      "image/png": "[encoded data removed]",
      "text/plain": [
       "<Figure size 432x288 with 1 Axes>"
      ]
     },
     "metadata": {
      "needs_background": "light"
     },
     "output_type": "display_data"
    }
   ],
   "source": [
    "sns.distplot(df.tip)"
   ]
  },
  {
   "cell_type": "code",
   "execution_count": 8,
   "metadata": {
    "ExecuteTime": {
     "end_time": "2019-05-16T16:43:35.180744Z",
     "start_time": "2019-05-16T16:43:35.167734Z"
    }
   },
   "outputs": [],
   "source": [
    "def plot_prob_density(df_lunch, df_dinner, field):\n",
    "    plt.figure(figsize = (10, 7))\n",
    "\n",
    "    unit = 1.5\n",
    "    x = np.linspace(df_lunch.min() - unit, df_lunch.max() + unit, 1000)[:, np.newaxis]\n",
    "\n",
    "    # Plot the data using a normalized histogram\n",
    "    plt.hist(df_lunch, bins=10, density=True, label='Lunch Time', color='orange', alpha=0.2)\n",
    "    plt.hist(df_dinner, bins=10, density=True, label='Dinner Time', color='navy', alpha=0.2)\n",
    "\n",
    "    # Do kernel density estimation\n",
    "    kd_lunch = KernelDensity(kernel='gaussian', bandwidth=0.5).fit(df_lunch)\n",
    "    kd_dinner = KernelDensity(kernel='gaussian', bandwidth=0.5).fit(df_dinner)\n",
    "\n",
    "    # Plot the estimated densty\n",
    "    kd_vals_lunch = np.exp(kd_lunch.score_samples(x))\n",
    "    kd_vals_dinner = np.exp(kd_dinner.score_samples(x))\n",
    "\n",
    "    plt.plot(x, kd_vals_lunch, color='orange')\n",
    "    plt.plot(x, kd_vals_dinner, color='navy')\n",
    "\n",
    "    # Show the plots\n",
    "    plt.xlabel(field, fontsize=15)\n",
    "    plt.ylabel('Probability Density', fontsize=15)\n",
    "    plt.legend(fontsize=15)\n",
    "    plt.show()\n",
    "    gc.collect()\n",
    "    return kd_lunch, kd_dinner"
   ]
  },
  {
   "cell_type": "code",
   "execution_count": 9,
   "metadata": {
    "ExecuteTime": {
     "end_time": "2019-05-16T16:43:35.199757Z",
     "start_time": "2019-05-16T16:43:35.184246Z"
    }
   },
   "outputs": [],
   "source": [
    "def get_probability(start_value, end_value, eval_points, kd):\n",
    "    \n",
    "    # Number of evaluation points \n",
    "    N = eval_points                                      \n",
    "    step = (end_value - start_value) / (N - 1)  # Step size\n",
    "\n",
    "    x = np.linspace(start_value, end_value, N)[:, np.newaxis]  # Generate values in the range\n",
    "    kd_vals = np.exp(kd.score_samples(x))  # Get PDF values for each x\n",
    "    probability = np.sum(kd_vals * step)  # Approximate the integral of the PDF\n",
    "    return probability.round(4)"
   ]
  },
  {
   "cell_type": "code",
   "execution_count": 10,
   "metadata": {
    "ExecuteTime": {
     "end_time": "2019-05-16T16:43:35.597494Z",
     "start_time": "2019-05-16T16:43:35.207268Z"
    }
   },
   "outputs": [
    {
     "data": {
      "image/png": "[encoded data removed]",
      "text/plain": [
       "<Figure size 720x504 with 1 Axes>"
      ]
     },
     "metadata": {
      "needs_background": "light"
     },
     "output_type": "display_data"
    }
   ],
   "source": [
    "plt.figure(figsize = (10, 7))\n",
    "sns.distplot(df.tip[df.time == 'Dinner'], label='dinner')\n",
    "sns.distplot(df.tip[df.time == 'Lunch'], label='lunch')\n",
    "plt.xlabel('tip', fontsize=15)\n",
    "plt.ylabel('Probability Density', fontsize=15)\n",
    "plt.legend(fontsize=15)\n",
    "plt.show()"
   ]
  },
  {
   "cell_type": "code",
   "execution_count": 11,
   "metadata": {
    "ExecuteTime": {
     "end_time": "2019-05-16T16:43:35.612510Z",
     "start_time": "2019-05-16T16:43:35.600497Z"
    }
   },
   "outputs": [],
   "source": [
    "df_lunch = df[df.time == 'Lunch']\n",
    "df_dinner = df[df.time == 'Dinner']"
   ]
  },
  {
   "cell_type": "code",
   "execution_count": 13,
   "metadata": {
    "ExecuteTime": {
     "end_time": "2019-05-16T16:43:53.628971Z",
     "start_time": "2019-05-16T16:43:53.624469Z"
    }
   },
   "outputs": [],
   "source": [
    "field = 'tip'\n",
    "data_lunch = np.array(df_lunch['%s'%field]).reshape(-1, 1)\n",
    "data_dinner = np.array(df_dinner['%s'%field]).reshape(-1, 1)"
   ]
  },
  {
   "cell_type": "code",
   "execution_count": 14,
   "metadata": {
    "ExecuteTime": {
     "end_time": "2019-05-16T16:43:54.679145Z",
     "start_time": "2019-05-16T16:43:54.312296Z"
    }
   },
   "outputs": [
    {
     "data": {
      "image/png": "[encoded data removed]",
      "text/plain": [
       "<Figure size 720x504 with 1 Axes>"
      ]
     },
     "metadata": {
      "needs_background": "light"
     },
     "output_type": "display_data"
    }
   ],
   "source": [
    "kd_lunch, kd_dinner = plot_prob_density(data_lunch, data_dinner, field)"
   ]
  },
  {
   "cell_type": "code",
   "execution_count": 15,
   "metadata": {
    "ExecuteTime": {
     "end_time": "2019-05-16T16:43:54.695174Z",
     "start_time": "2019-05-16T16:43:54.683149Z"
    }
   },
   "outputs": [
    {
     "name": "stdout",
     "output_type": "stream",
     "text": [
      "Probability of customers giving 1-3 USD tips during LUNCH time: 0.6341\n",
      "\n",
      "Probability of customers giving 1-3 USD tips during DINNER time: 0.4899\n"
     ]
    }
   ],
   "source": [
    "print('Probability of customers giving 1-3 USD tips during LUNCH time: {}\\n'.format(get_probability(start_value = 1, \n",
    "                                                                                                    end_value = 3, \n",
    "                                                                                                    eval_points = 100, \n",
    "                                                                                                    kd = kd_lunch)))\n",
    "print('Probability of customers giving 1-3 USD tips during DINNER time: {}'.format(get_probability(start_value = 1, \n",
    "                                                                                                    end_value = 3, \n",
    "                                                                                                    eval_points = 100, \n",
    "                                                                                                    kd = kd_dinner)))"
   ]
  },
  {
   "cell_type": "code",
   "execution_count": 16,
   "metadata": {
    "ExecuteTime": {
     "end_time": "2019-05-16T16:43:55.323742Z",
     "start_time": "2019-05-16T16:43:55.312734Z"
    }
   },
   "outputs": [
    {
     "name": "stdout",
     "output_type": "stream",
     "text": [
      "Probability of customers giving 3-5 USD tips during LUNCH time: 0.2653\n",
      "\n",
      "Probability of customers giving 3-5 USD tips during DINNER time: 0.3792\n"
     ]
    }
   ],
   "source": [
    "print('Probability of customers giving 3-5 USD tips during LUNCH time: {}\\n'.format(get_probability(start_value = 3, \n",
    "                                                                                                    end_value = 5, \n",
    "                                                                                                    eval_points = 100, \n",
    "                                                                                                    kd = kd_lunch)))\n",
    "print('Probability of customers giving 3-5 USD tips during DINNER time: {}'.format(get_probability(start_value = 3, \n",
    "                                                                                                   end_value = 5, \n",
    "                                                                                                   eval_points = 100, \n",
    "                                                                                                   kd = kd_dinner)))"
   ]
  }
 ],
 "metadata": {
  "kernelspec": {
   "display_name": "Python 3",
   "language": "python",
   "name": "python3"
  },
  "language_info": {
   "codemirror_mode": {
    "name": "ipython",
    "version": 3
   },
   "file_extension": ".py",
   "mimetype": "text/x-python",
   "name": "python",
   "nbconvert_exporter": "python",
   "pygments_lexer": "ipython3",
   "version": "3.6.7"
  },
  "toc": {
   "base_numbering": 1,
   "nav_menu": {},
   "number_sections": true,
   "sideBar": true,
   "skip_h1_title": false,
   "title_cell": "Table of Contents",
   "title_sidebar": "Contents",
   "toc_cell": false,
   "toc_position": {},
   "toc_section_display": true,
   "toc_window_display": true
  }
 },
 "nbformat": 4,
 "nbformat_minor": 2
}
